{
 "cells": [
  {
   "cell_type": "markdown",
   "metadata": {},
   "source": [
    "## Learning to Score Behaviors for Guided Policy Optimization\n",
    "\n",
    "This is a demo for the paper Learning to Score Behaviors for Guided Policy Optimization. In this notebook we introduce our mechanism for calculating the Wasserstein Distance (WD), and apply it to Evolution Strategies (ES) to solve a simple yet deceptively tricky RL environment with our Behavior-Guided Evolution Strategies (BGES) algorithm. \n",
    "\n",
    "This is purely illustrative, for reader's convenience, since we introduce quite a few technical concepts and understand it may not be straightforward to grasp.\n",
    "\n",
    "The code we used for the experiments in the paper was internal and distributed, but this code is designed to run on a single machine in very little time, so we hope that reduces the barrier for people to reproduce/evaluate our method, and hopefully have some fun!\n",
    "\n",
    "But first, some preliminaries..."
   ]
  },
  {
   "cell_type": "code",
   "execution_count": 89,
   "metadata": {},
   "outputs": [],
   "source": [
    "%matplotlib inline\n",
    "import numpy as np\n",
    "import pandas as pd\n",
    "import matplotlib.pyplot as plt\n",
    "import gym\n",
    "import simpleenvs # a custom mujoco env we built for this work, more details in the paper.\n",
    "import seaborn as sns"
   ]
  },
  {
   "cell_type": "markdown",
   "metadata": {},
   "source": [
    "Now here's the class which computes the Behavioral Test Functions (denoted beta_1 and beta_2). We use random features from [1] which means we do not need to compute the kernel matrix exactly (please see Section 4.2 for a detailed explanation). \n",
    "\n",
    "The loss function here is what we use to actually calculate the WD using the latest beta_1 and beta_2. You will see that during the optimization, we first update the behavioral test functions using the new data, then we apply these to evaluate the policies and compute their WDs. But that will come a little later!"
   ]
  },
  {
   "cell_type": "code",
   "execution_count": 16,
   "metadata": {},
   "outputs": [],
   "source": [
    "class random_wassdist(object):\n",
    "    def __init__(self, params):\n",
    "        self.sigma = 1.0\n",
    "        self.gamma = 1.0\n",
    "        self.T = 10\n",
    "        self.n = 1 # num of data points per batch to update kernel function\n",
    "        self.xdim = params['dim']\n",
    "        self.alpha = 5e-2\n",
    "        self.D = params['rf_dim'] # random feature dimension\n",
    "        self.omega = np.random.randn(self.D, self.xdim) * 1.0 / self.sigma\n",
    "        self.bias = np.random.rand(self.D, 1) * 2 * np.pi\n",
    "        self.t = 0\n",
    "\n",
    "    def get_random_feature(self, x):\n",
    "        return np.cos(np.dot(self.omega, x) + self.bias) * np.sqrt(2. / self.D)\n",
    "\n",
    "    def update(self, X, Y, params):\n",
    "        # sample and update behavioral test functions using single_update\n",
    "        for _ in range(params['w_iter']):\n",
    "            x = np.array(X[int(np.random.uniform() * len(X))])\n",
    "            y = np.array(Y[int(np.random.uniform() * len(X))])\n",
    "            self.single_update(x, y)\n",
    "\n",
    "    def single_update(self, x, y):\n",
    "        if self.t == 0:\n",
    "            # initialize the functions\n",
    "            x = np.expand_dims(x, axis=1)\n",
    "            y = np.expand_dims(y, axis=1)\n",
    "            self.beta_1 = self.get_random_feature(x).flatten()\n",
    "            self.beta_2 = self.get_random_feature(y).flatten()\n",
    "        else:   \n",
    "            x = np.expand_dims(x, axis=1)\n",
    "            y = np.expand_dims(y, axis=1)\n",
    "            \n",
    "            # map to random feature space\n",
    "            zx = self.get_random_feature(x)\n",
    "            zy = self.get_random_feature(y)\n",
    "\n",
    "            C = np.sum((x-y)**2, axis=0)\n",
    "            coeff = np.exp((np.dot(self.beta_1, zx) - np.dot(self.beta_2, zy) - C) / self.gamma)\n",
    "            weight = (1 - coeff)\n",
    "            weight = np.expand_dims(weight, axis=0)\n",
    "            \n",
    "            # update the functions\n",
    "            self.beta_1 += self.alpha * np.mean(weight * zx, axis=1)\n",
    "            self.beta_2 += self.alpha * np.mean(weight * zy, axis=1)\n",
    "        self.t += 1\n",
    "\n",
    "    def wd(self, x, y):\n",
    "        x = np.expand_dims(x, axis=1)\n",
    "        y = np.expand_dims(y, axis=1)\n",
    "        \n",
    "        zx = self.get_random_feature(x)\n",
    "        zy = self.get_random_feature(y)\n",
    "        wd = np.dot(self.beta_1, zx) - np.dot(self.beta_2, zy) + (1/self.gamma) * np.exp((np.dot(self.beta_1, zx) - np.dot(self.beta_2, zy) - np.sum((x-y)**2))/self.gamma)\n",
    "        return wd\n",
    "    "
   ]
  },
  {
   "cell_type": "markdown",
   "metadata": {},
   "source": [
    "Now we are ready to start talking about reinforcement learning. First up, here's the policy. It is a Toeplitz policy from [2]. This is a compact representation often used for ES methods to reduce the number of parameters. In this case we are running this on a single machine, so it is an effective way to make the code more efficient."
   ]
  },
  {
   "cell_type": "code",
   "execution_count": 17,
   "metadata": {},
   "outputs": [],
   "source": [
    "from scipy.linalg import toeplitz\n",
    "\n",
    "class ToeplitzPolicy(object):\n",
    "    \n",
    "    def __init__(self, policy_params):\n",
    "        \n",
    "        self.init_seed = policy_params['seed']\n",
    "        self.ob_dim = policy_params['ob_dim']\n",
    "        self.h_dim = policy_params['h_dim']\n",
    "        self.ac_dim = policy_params['ac_dim']\n",
    "        \n",
    "        self.w1 = self.weight_init(self.ob_dim + self.h_dim -1, policy_params['zeros'])\n",
    "        self.w2 = self.weight_init(self.h_dim * 2 - 1, policy_params['zeros'])\n",
    "        self.w3 = self.weight_init(self.ac_dim + self.h_dim - 1, policy_params['zeros'])\n",
    "        \n",
    "        self.W1 = self.build_layer(self.h_dim, self.ob_dim, self.w1)\n",
    "        self.W2 = self.build_layer(self.h_dim, self.h_dim, self.w2)\n",
    "        self.W3 = self.build_layer(self.ac_dim, self.h_dim, self.w3)\n",
    "        \n",
    "        self.b1 = self.weight_init(self.h_dim, policy_params['zeros'])\n",
    "        self.b2 = self.weight_init(self.h_dim, policy_params['zeros'])\n",
    "    \n",
    "        self.params = np.concatenate([self.w1, self.b1, self.w2, self.b2, self.w3])\n",
    "        self.N = len(self.params)\n",
    "    \n",
    "    def weight_init(self, d, zeros):\n",
    "        if zeros:\n",
    "            w = np.zeros(d)\n",
    "        else:\n",
    "            np.random.seed(self.init_seed)\n",
    "            w = np.random.rand(d) / np.sqrt(d)\n",
    "        return(w)\n",
    "    \n",
    "    def build_layer(self, d1, d2, v):\n",
    "        # len v = d1 + d2 - 1\n",
    "        col = v[:d1]\n",
    "        row = v[(d1-1):]\n",
    "        \n",
    "        W = toeplitz(col, row)\n",
    "        return(W)\n",
    "    \n",
    "    def update(self, vec):\n",
    "        \n",
    "        self.params += vec\n",
    "        \n",
    "        self.w1 += vec[:len(self.w1)]\n",
    "        vec = vec[len(self.w1):]\n",
    "        self.b1 += vec[:len(self.b1)]\n",
    "        vec = vec[len(self.b1):]\n",
    "        self.w2 += vec[:len(self.w2)]\n",
    "        vec = vec[len(self.w2):]\n",
    "        self.b2 += vec[:len(self.b2)]\n",
    "        vec = vec[len(self.b2):]\n",
    "        self.w3 += vec\n",
    "        \n",
    "        self.W1 = self.build_layer(self.h_dim, self.ob_dim, self.w1)\n",
    "        self.W2 = self.build_layer(self.h_dim, self.h_dim, self.w2)\n",
    "        self.W3 = self.build_layer(self.ac_dim, self.h_dim, self.w3)\n",
    "        \n",
    "    def evaluate(self, X):        \n",
    "        z1 = np.tanh(np.dot(self.W1, X) + self.b1)\n",
    "        z2 = np.tanh(np.dot(self.W2, z1) + self.b2)\n",
    "        return(np.tanh(np.dot(self.W3, z2)))"
   ]
  },
  {
   "cell_type": "markdown",
   "metadata": {},
   "source": [
    "Next we can introduce a worker. This is similar to the code from ARS ([4] and here: https://github.com/modestyachts/ARS/blob/master/code/ars.py) so it can work with a library such as ray for parallelization. We do not include this because we have designed our experiment to work on a single machine. That being said, we leave the code in this structure in the hope it should be straightforward to scale up."
   ]
  },
  {
   "cell_type": "code",
   "execution_count": 26,
   "metadata": {},
   "outputs": [],
   "source": [
    "class worker(object):\n",
    "    \n",
    "    def __init__(self, params, master, A, i, train=True):\n",
    "        \n",
    "        self.env = gym.make(params['env_name'])        \n",
    "        self.v = A[i, :] # the perturbation we will use\n",
    "        \n",
    "        params['zeros'] = True # initialize policy with zeros so we can set it to the current policy\n",
    "        self.policy = ToeplitzPolicy(params)        \n",
    "        self.policy.update(master.params)\n",
    "        self.timesteps = 0\n",
    "            \n",
    "    def do_rollouts(self, seed=0, train=True):\n",
    "        \n",
    "        self.policy.update(self.v) # Add the perturbation, to calculate F(theta + sigma * epsilon)\n",
    "        up, up_data = self.rollout(seed, train)\n",
    "        \n",
    "        self.policy.update(-2 * self.v) # Subtract the perturbation, to calculate F(theta - sigma * epsilon)\n",
    "        down, down_data = self.rollout(seed, train)\n",
    "        \n",
    "        self.rewards = np.reshape(np.array([up, down]), 2)\n",
    "        self.up_data = up_data # up_data is a list of (state, reward)\n",
    "        self.down_data = down_data\n",
    "    \n",
    "    def rollout(self, seed=0, train=True):\n",
    "        self.env.seed(0)\n",
    "        state = self.env.reset()\n",
    "        self.env._max_episode_steps = 50 # if you want to use another env, then change this!\n",
    "        total_reward = 0\n",
    "        done = False\n",
    "        data = []\n",
    "        while not done:\n",
    "            action = self.policy.evaluate(state)\n",
    "            action = np.random.multivariate_normal(action, 0.01 * np.eye(action.size), 1) # Make the policy nondeterministic\n",
    "            state, reward, done, _ = self.env.step(action)\n",
    "            total_reward += reward\n",
    "            data.append([state, reward])\n",
    "            self.timesteps += 1\n",
    "        return(total_reward, data)"
   ]
  },
  {
   "cell_type": "markdown",
   "metadata": {},
   "source": [
    "You'll see that unlike usual rollouts which just return the reward, we also return all of the data from the trajectory. We will apply the Behavioral Embedding Map (BEM) to convert this data into a Probabilistic Policy Embedding (PPE). In this setting, we use the final state as the PPE, but there is potentially a lot of work that can be done on finding optimal PPEs (or learning them). In a larger scale setting you would likely want to compute multiple stochastic trajectories for a more accurate approximation of the WD, but to speed things up we just use one."
   ]
  },
  {
   "cell_type": "code",
   "execution_count": 27,
   "metadata": {},
   "outputs": [],
   "source": [
    "def embed(params, data, k=100):\n",
    "    # For pointenv, they take the state ([0]) at thr last step ([-1]), data is [(state, reward), (state, reward), ...] \n",
    "    embedding = data[-1][0][:2] \n",
    "    # add alternative PPEs\n",
    "    return(embedding)\n",
    "\n",
    "def calcdists(embeddings, dists, i, master, m_embedding, params):\n",
    "    \n",
    "    n_master = min(params['n_iter'], params['n_prev'])\n",
    "    if n_master== 1:\n",
    "        dists[i, 0] = master.wass.wd(m_embedding[0], embeddings[i])\n",
    "        dists[i, 1] = master.wass.wd(m_embedding[0], embeddings[i+params['num_sensings']])\n",
    "    else:\n",
    "        # if we are comparing vs multiple previous policies\n",
    "        dists[i, 0] = np.mean([master.wass.wd(x, embeddings[i]) for x in m_embedding])\n",
    "        dists[i, 1] = np.mean([master.wass.wd(x, embeddings[i+params['num_sensings']]) for x in m_embedding])\n",
    "    return(dists)\n"
   ]
  },
  {
   "cell_type": "markdown",
   "metadata": {},
   "source": [
    "The functions we introduce next are where all the calculations take place, again inspired by ARS [4] (so thanks to them...).\n",
    "\n",
    "We generate perturbations, perturb the policies (via the worker class) and then evaluate their reward and novelty (measured by WD in the PPE space). The blackbox function, Equation 6 in the paper, is: \n",
    "\n",
    "$F(\\theta) = \\mathcal{L}(\\theta) + \\beta \\mathrm{WD}_\\gamma(\\mathbb{P}_{\\pi_\\theta}^\\Phi ,\\mathbb{P}^{\\Phi}_{\\mathrm{b}})$\n",
    "\n",
    "Where $\\mathcal{L}(\\theta)$ is the cumulative undiscounted reward of the entire rollout.\n",
    "\n",
    "The gradient of this is calculated below, labelled *. "
   ]
  },
  {
   "cell_type": "code",
   "execution_count": 90,
   "metadata": {},
   "outputs": [],
   "source": [
    "def aggregate_rollouts(master, A, params):\n",
    "       \n",
    "    all_rollouts = np.zeros([params['num_sensings'], 2])\n",
    "    up, down = [],[]\n",
    "    timesteps = 0\n",
    "    \n",
    "    # Will generate 50 rollouts\n",
    "    for i in range(params['num_sensings']):\n",
    "        w = worker(params, master, A, i)\n",
    "        w.do_rollouts()\n",
    "        all_rollouts[i] = w.rewards # w.rewards have up and down rewards\n",
    "        up.append(embed(params, w.up_data))\n",
    "#         print('up', embed(params, w.up_data))\n",
    "        down.append(embed(params, w.down_data))\n",
    "        timesteps += w.timesteps\n",
    "    embeddings = up + down\n",
    "    \n",
    "    if params['optimizer'] == 'ES':\n",
    "        dists = np.zeros(params['num_sensings'])\n",
    "        safety_dists = np.zeros(params['num_sensings'])\n",
    "    else:\n",
    "        # Update behavioral test funcs and use them to calculate WDs for each perturbed policy\n",
    "        if params['n_iter'] == 1:\n",
    "            dists = np.zeros(params['num_sensings'])\n",
    "            safety_dists = np.zeros(params['num_sensings'])\n",
    "        else:\n",
    "            master.wass.update(master.buffer, embeddings, params)\n",
    "            \n",
    "            dists = np.zeros([params['num_sensings'], 2])            \n",
    "#             for i in range(params['num_sensings']):\n",
    "#                 # Compute the pairwise WD distances\n",
    "#                 dists = calcdists(embeddings, dists, i, master, master.embedding, params)\n",
    "            \n",
    "            # normalize dists\n",
    "            dists = (dists - np.mean(dists)) / (np.std(dists)  + 1e-8)\n",
    "            # They compute the idstances based on -eps samples and +eps samples\n",
    "            dists = np.array(dists[:, 0] - dists[:, 1])\n",
    "            \n",
    "            safety_dists = np.zeros([params['num_sensings'], 2])\n",
    "            safety_embeddings = params['safety_embeddings']\n",
    "            for i in range(params['num_sensings']):\n",
    "                # Compute the pairwise WD distances\n",
    "                safety_dists = calcdists(embeddings, safety_dists, i, master, safety_embeddings, params)\n",
    "                        \n",
    "            safety_dists = (safety_dists - np.mean(safety_dists)) / (np.std(safety_dists)  + 1e-8)\n",
    "            # They compute the idstances based on -eps samples and +eps samples\n",
    "            safety_dists = np.array(safety_dists[:, 0] - safety_dists[:, 1])\n",
    "            \n",
    "        # Book the latest set of embeddings \n",
    "        master.buffer = embeddings\n",
    "    \n",
    "    all_rollouts = (all_rollouts - np.mean(all_rollouts)) / (np.std(all_rollouts)  + 1e-8)  \n",
    "    m = np.array(all_rollouts[:, 0] - all_rollouts[:, 1])\n",
    "    \n",
    "    return(m, dists, safety_dists, timesteps)\n",
    "\n",
    "def ES(params, master):\n",
    "    \n",
    "    A = np.random.multivariate_normal(np.zeros(master.N), np.eye(master.N), master.N)\n",
    "    A *= params['sigma']\n",
    "    A /= np.linalg.norm(A, axis =-1)[:, np.newaxis]\n",
    "        \n",
    "    m, dists, safety_dists, timesteps = aggregate_rollouts(master, A, params)\n",
    "\n",
    "    g = np.zeros(master.N)\n",
    "    use_safety_dist = params['use_safety']\n",
    "    use_repel_dist = params['use_repel']\n",
    "    for i in range(params['num_sensings']):\n",
    "        eps = A[i, :]\n",
    "        # combine reward and WD... beta could be adaptive as in the NSRA algorithm [3]\n",
    "        if use_safety_dist == True and use_repel_dist == True:\n",
    "            g += eps * ((1-params['beta'])*m[i] + params['beta']*dists[i] + params['beta']*safety_dists[i]) # *\n",
    "        elif use_safety_dist == True:\n",
    "            g += eps * ((1-params['beta'])*m[i] + params['beta']*safety_dists[i]) # *\n",
    "        elif use_repel_dist == True:\n",
    "            g += eps * ((1-params['beta'])*m[i] + params['beta']*dists[i]) # *\n",
    "        else:\n",
    "            g += eps * (m[i]) # *\n",
    "    \n",
    "    g /= (2 * params['sigma'])\n",
    "\n",
    "    return(g, timesteps)"
   ]
  },
  {
   "cell_type": "markdown",
   "metadata": {},
   "source": [
    "Below we have the main training procedure to initialize, update and test our agent. \n",
    "\n",
    "We include Adam here too."
   ]
  },
  {
   "cell_type": "code",
   "execution_count": 91,
   "metadata": {},
   "outputs": [],
   "source": [
    "def Adam(dx, m, v, learning_rate, t, eps = 1e-8, beta1 = 0.9, beta2 = 0.999):\n",
    "    m = beta1 * m + (1 - beta1) * dx\n",
    "    mt = m / (1 - beta1 ** t)\n",
    "    v = beta2 * v + (1-beta2) * (dx **2)\n",
    "    vt = v / (1 - beta2 ** t)\n",
    "    update = learning_rate * mt / (np.sqrt(vt) + eps)\n",
    "    return(update, m, v)\n",
    "\n",
    "def train(params):\n",
    "    \n",
    "    if params['optimizer'] == 'ES':\n",
    "        params['beta'] = 0 # ie no WD term in the blackbox function F\n",
    "    else:\n",
    "        params['beta'] = 0.5 # we use equal weight for the reward and WD. Other schemes could be tested...\n",
    "    \n",
    "    env = gym.make(params['env_name'])\n",
    "    params['ob_dim'] = env.observation_space.shape[0]\n",
    "    params['ac_dim'] = env.action_space.shape[0]\n",
    "\n",
    "    m = 0\n",
    "    v = 0\n",
    "        \n",
    "    params['zeros'] = False\n",
    "    master = ToeplitzPolicy(params)\n",
    "    # Use the embed dim\n",
    "    # params['dim'] = params['ob_dim']\n",
    "    params['dim'] = 2\n",
    "    master.wass = random_wassdist(params) # initialize the behavioral test functions\n",
    "    master.buffer = []\n",
    "    master.embedding = []\n",
    "    master.history_embeddings = []\n",
    "        \n",
    "    n_iter = 1\n",
    "    ts_cumulative = 0\n",
    "    ts = []\n",
    "    rewards = []\n",
    "    all_weights = pd.DataFrame()\n",
    "    \n",
    "    while n_iter < params['max_iter']:\n",
    "            \n",
    "        params['n_iter'] = n_iter\n",
    "        \n",
    "        # main calculations\n",
    "        gradient, timesteps = ES(params, master) \n",
    "        ts_cumulative += timesteps\n",
    "        ts.append(ts_cumulative)\n",
    "        \n",
    "        # update policy\n",
    "        gradient /= (np.linalg.norm(gradient) / master.N + 1e-8)\n",
    "        update, m, v = Adam(gradient, m, v, params['learning_rate'], n_iter)\n",
    "        master.update(update)\n",
    "        \n",
    "        # evaluate new policy, keep the PPE to repel the next iteration\n",
    "        test_policy = worker(params, master, np.zeros([1, master.N]), 0)\n",
    "        reward, master_traj = test_policy.rollout()\n",
    "#         print(reward, embed(params, master_traj),  max(gradient))\n",
    "        master.embedding.append(embed(params, master_traj))\n",
    "        master.history_embeddings.append(master.embedding[-1])\n",
    "        master.embedding = master.embedding[-params['n_prev']:]\n",
    "        rewards.append(reward)\n",
    "        \n",
    "        if n_iter % 10 == 0:\n",
    "            print('Iteration: %s, Reward: %s' %(n_iter, reward))\n",
    "        n_iter += 1\n",
    "        \n",
    "    df = pd.DataFrame({'Optimizer': [params['optimizer'] for _ in range(len(rewards))], \n",
    "                       'Reward': rewards, \n",
    "                       'Timesteps': ts,\n",
    "                       'Embeddings': master.history_embeddings})\n",
    "    return(df)\n"
   ]
  },
  {
   "cell_type": "markdown",
   "metadata": {},
   "source": [
    "We need to specify the parameters for optimization. These are the core parameters that are shared by both ES and BGES. "
   ]
  },
  {
   "cell_type": "code",
   "execution_count": 93,
   "metadata": {},
   "outputs": [],
   "source": [
    "params = {}\n",
    "params['env_name'] = 'point-v0'\n",
    "params['seed'] = 0 # feel free to change this...\n",
    "params['max_iter'] = 100 # number of iterations, >100 is usually enough\n",
    "params['num_sensings'] = 50 # population size\n",
    "params['safety_embeddings'] = [np.array([(20 + np.random.uniform(low=-1, high=1) * 5), (np.random.uniform(low=-1, high=1) * 5)]) for i in range(5)]\n",
    "params['learning_rate'] = 0.1 # others should work too\n",
    "params['sigma'] = 0.1 # scale for the samples\n",
    "params['h_dim'] = 16 # size of neural network hidden layers\n",
    "params['rf_dim'] = 1000 # dimensionality of random features, higher = more accurate but slower\n",
    "params['w_iter'] = 100 # number of samples to update behavioral test funcs\n",
    "params['n_prev'] = 5 # number of previous policies to compute WD vs current. We have an ablation of this in Fig"
   ]
  },
  {
   "cell_type": "code",
   "execution_count": 94,
   "metadata": {},
   "outputs": [
    {
     "data": {
      "text/plain": [
       "<AxesSubplot:>"
      ]
     },
     "execution_count": 94,
     "metadata": {},
     "output_type": "execute_result"
    },
    {
     "data": {
      "image/png": "[encoded data removed]",
      "text/plain": [
       "<Figure size 432x288 with 1 Axes>"
      ]
     },
     "metadata": {
      "needs_background": "light"
     },
     "output_type": "display_data"
    }
   ],
   "source": [
    "sns.scatterplot(x=[e[0] for e in params['safety_embeddings']], y=[e[1] for e in params['safety_embeddings']])\n",
    "sns.scatterplot(x=[25,], y=[0,])"
   ]
  },
  {
   "cell_type": "markdown",
   "metadata": {},
   "source": [
    "We are almost ready to begin optimizing, but first, a brief comment on the environment. This is a custom environment we built to be a low dimensional problem we could use as a testbed. It is included in the paper (Fig 5.).\n",
    "\n",
    "At every timestep, the agent (a 2-d point) receives a reward linearly related to the distance from a goal. Despite the small size ($|S|=6, |A|=2$) it is non-trivial due to the deceptive barrier. This means that to solve the environment (and ultimately get a higher reward) the agent must not initially go straight, thus, it must initially opt for lower reward behaviors. The idea for this environment came from [3] who used it with a humanoid agent. \n",
    "\n",
    "Below we show the initial state of the environment. For 'qualitative' analysis, note that -775 corresponds to moving directly towards the goal and hitting the wall. This number (give or take 1-2) appears a great deal during optimization.\n",
    "\n",
    "<img src=\"point_env.png\" width=\"600\">\n",
    "\n",
    "\n",
    "\n"
   ]
  },
  {
   "cell_type": "markdown",
   "metadata": {},
   "source": [
    "Now we can train some agents! We will do both vanilla ES and BGES. \n"
   ]
  },
  {
   "cell_type": "code",
   "execution_count": 13,
   "metadata": {},
   "outputs": [
    {
     "name": "stdout",
     "output_type": "stream",
     "text": [
      "Safety embeds: [array([9.531423  , 1.59073202]), array([9.96206463, 3.39555998]), array([3.97654779, 7.4357982 ]), array([0.55568623, 8.83389448]), array([4.48908456, 4.90276028]), array([3.38331866, 4.64657646]), array([8.58432221, 0.85790116]), array([0.28322279, 3.97348343]), array([7.20018419, 9.8914244 ]), array([10.9605868 ,  7.70814714]), array([11.55540776,  5.54355987]), array([6.23030042, 3.23305642]), array([ 9.26215031, 11.59458257]), array([9.98125751, 5.9321286 ]), array([5.34110838, 4.42234016]), array([2.65012583, 7.49014176]), array([3.9947928 , 6.89483063]), array([10.30771795, 11.93656074]), array([11.72360666,  9.54019825]), array([11.35328283,  0.13929243])]\n",
      "running build_ext\n"
     ]
    },
    {
     "name": "stderr",
     "output_type": "stream",
     "text": [
      "/home/gridsan/zwhong/.local/lib/python3.7/site-packages/gym/logger.py:30: UserWarning: \u001b[33mWARN: Box bound precision lowered by casting to float32\u001b[0m\n",
      "  warnings.warn(colorize('%s: %s'%('WARN', msg % args), 'yellow'))\n"
     ]
    },
    {
     "name": "stdout",
     "output_type": "stream",
     "text": [
      "[-0.08912799  0.09307819  0.02653819 -0.05766308 -0.03045979 -0.09994328]\n",
      "[-0.08912799  0.09307819  0.02653819 -0.05766308 -0.03045979 -0.09994328]\n",
      "[-0.08912799  0.09307819  0.02653819 -0.05766308 -0.03045979 -0.09994328]\n",
      "[-0.08912799  0.09307819  0.02653819 -0.05766308 -0.03045979 -0.09994328]\n",
      "[-0.08912799  0.09307819  0.02653819 -0.05766308 -0.03045979 -0.09994328]\n",
      "[-0.08912799  0.09307819  0.02653819 -0.05766308 -0.03045979 -0.09994328]\n",
      "[-0.08912799  0.09307819  0.02653819 -0.05766308 -0.03045979 -0.09994328]\n",
      "[-0.08912799  0.09307819  0.02653819 -0.05766308 -0.03045979 -0.09994328]\n",
      "[-0.08912799  0.09307819  0.02653819 -0.05766308 -0.03045979 -0.09994328]\n",
      "[-0.08912799  0.09307819  0.02653819 -0.05766308 -0.03045979 -0.09994328]\n",
      "[-0.08912799  0.09307819  0.02653819 -0.05766308 -0.03045979 -0.09994328]\n",
      "[-0.08912799  0.09307819  0.02653819 -0.05766308 -0.03045979 -0.09994328]\n",
      "[-0.08912799  0.09307819  0.02653819 -0.05766308 -0.03045979 -0.09994328]\n",
      "[-0.08912799  0.09307819  0.02653819 -0.05766308 -0.03045979 -0.09994328]\n",
      "[-0.08912799  0.09307819  0.02653819 -0.05766308 -0.03045979 -0.09994328]\n",
      "[-0.08912799  0.09307819  0.02653819 -0.05766308 -0.03045979 -0.09994328]\n",
      "[-0.08912799  0.09307819  0.02653819 -0.05766308 -0.03045979 -0.09994328]\n",
      "[-0.08912799  0.09307819  0.02653819 -0.05766308 -0.03045979 -0.09994328]\n",
      "[-0.08912799  0.09307819  0.02653819 -0.05766308 -0.03045979 -0.09994328]\n",
      "[-0.08912799  0.09307819  0.02653819 -0.05766308 -0.03045979 -0.09994328]\n",
      "[-0.08912799  0.09307819  0.02653819 -0.05766308 -0.03045979 -0.09994328]\n",
      "[-0.08912799  0.09307819  0.02653819 -0.05766308 -0.03045979 -0.09994328]\n",
      "[-0.08912799  0.09307819  0.02653819 -0.05766308 -0.03045979 -0.09994328]\n",
      "[-0.08912799  0.09307819  0.02653819 -0.05766308 -0.03045979 -0.09994328]\n",
      "[-0.08912799  0.09307819  0.02653819 -0.05766308 -0.03045979 -0.09994328]\n",
      "[-0.08912799  0.09307819  0.02653819 -0.05766308 -0.03045979 -0.09994328]\n",
      "[-0.08912799  0.09307819  0.02653819 -0.05766308 -0.03045979 -0.09994328]\n",
      "[-0.08912799  0.09307819  0.02653819 -0.05766308 -0.03045979 -0.09994328]\n",
      "[-0.08912799  0.09307819  0.02653819 -0.05766308 -0.03045979 -0.09994328]\n",
      "[-0.08912799  0.09307819  0.02653819 -0.05766308 -0.03045979 -0.09994328]\n",
      "[-0.08912799  0.09307819  0.02653819 -0.05766308 -0.03045979 -0.09994328]\n",
      "[-0.08912799  0.09307819  0.02653819 -0.05766308 -0.03045979 -0.09994328]\n",
      "[-0.08912799  0.09307819  0.02653819 -0.05766308 -0.03045979 -0.09994328]\n",
      "[-0.08912799  0.09307819  0.02653819 -0.05766308 -0.03045979 -0.09994328]\n",
      "[-0.08912799  0.09307819  0.02653819 -0.05766308 -0.03045979 -0.09994328]\n",
      "[-0.08912799  0.09307819  0.02653819 -0.05766308 -0.03045979 -0.09994328]\n",
      "[-0.08912799  0.09307819  0.02653819 -0.05766308 -0.03045979 -0.09994328]\n",
      "[-0.08912799  0.09307819  0.02653819 -0.05766308 -0.03045979 -0.09994328]\n",
      "[-0.08912799  0.09307819  0.02653819 -0.05766308 -0.03045979 -0.09994328]\n",
      "[-0.08912799  0.09307819  0.02653819 -0.05766308 -0.03045979 -0.09994328]\n",
      "[-0.08912799  0.09307819  0.02653819 -0.05766308 -0.03045979 -0.09994328]\n",
      "[-0.08912799  0.09307819  0.02653819 -0.05766308 -0.03045979 -0.09994328]\n",
      "[-0.08912799  0.09307819  0.02653819 -0.05766308 -0.03045979 -0.09994328]\n",
      "[-0.08912799  0.09307819  0.02653819 -0.05766308 -0.03045979 -0.09994328]\n",
      "[-0.08912799  0.09307819  0.02653819 -0.05766308 -0.03045979 -0.09994328]\n",
      "[-0.08912799  0.09307819  0.02653819 -0.05766308 -0.03045979 -0.09994328]\n",
      "[-0.08912799  0.09307819  0.02653819 -0.05766308 -0.03045979 -0.09994328]\n",
      "[-0.08912799  0.09307819  0.02653819 -0.05766308 -0.03045979 -0.09994328]\n",
      "[-0.08912799  0.09307819  0.02653819 -0.05766308 -0.03045979 -0.09994328]\n",
      "[-0.08912799  0.09307819  0.02653819 -0.05766308 -0.03045979 -0.09994328]\n",
      "[-0.08912799  0.09307819  0.02653819 -0.05766308 -0.03045979 -0.09994328]\n",
      "[-0.08912799  0.09307819  0.02653819 -0.05766308 -0.03045979 -0.09994328]\n",
      "[-0.08912799  0.09307819  0.02653819 -0.05766308 -0.03045979 -0.09994328]\n",
      "[-0.08912799  0.09307819  0.02653819 -0.05766308 -0.03045979 -0.09994328]\n",
      "[-0.08912799  0.09307819  0.02653819 -0.05766308 -0.03045979 -0.09994328]\n",
      "[-0.08912799  0.09307819  0.02653819 -0.05766308 -0.03045979 -0.09994328]\n",
      "[-0.08912799  0.09307819  0.02653819 -0.05766308 -0.03045979 -0.09994328]\n",
      "[-0.08912799  0.09307819  0.02653819 -0.05766308 -0.03045979 -0.09994328]\n",
      "[-0.08912799  0.09307819  0.02653819 -0.05766308 -0.03045979 -0.09994328]\n",
      "[-0.08912799  0.09307819  0.02653819 -0.05766308 -0.03045979 -0.09994328]\n",
      "[-0.08912799  0.09307819  0.02653819 -0.05766308 -0.03045979 -0.09994328]\n",
      "[-0.08912799  0.09307819  0.02653819 -0.05766308 -0.03045979 -0.09994328]\n",
      "[-0.08912799  0.09307819  0.02653819 -0.05766308 -0.03045979 -0.09994328]\n",
      "[-0.08912799  0.09307819  0.02653819 -0.05766308 -0.03045979 -0.09994328]\n",
      "[-0.08912799  0.09307819  0.02653819 -0.05766308 -0.03045979 -0.09994328]\n",
      "[-0.08912799  0.09307819  0.02653819 -0.05766308 -0.03045979 -0.09994328]\n",
      "[-0.08912799  0.09307819  0.02653819 -0.05766308 -0.03045979 -0.09994328]\n",
      "[-0.08912799  0.09307819  0.02653819 -0.05766308 -0.03045979 -0.09994328]\n",
      "[-0.08912799  0.09307819  0.02653819 -0.05766308 -0.03045979 -0.09994328]\n",
      "[-0.08912799  0.09307819  0.02653819 -0.05766308 -0.03045979 -0.09994328]\n",
      "[-0.08912799  0.09307819  0.02653819 -0.05766308 -0.03045979 -0.09994328]\n",
      "[-0.08912799  0.09307819  0.02653819 -0.05766308 -0.03045979 -0.09994328]\n",
      "[-0.08912799  0.09307819  0.02653819 -0.05766308 -0.03045979 -0.09994328]\n",
      "[-0.08912799  0.09307819  0.02653819 -0.05766308 -0.03045979 -0.09994328]\n",
      "[-0.08912799  0.09307819  0.02653819 -0.05766308 -0.03045979 -0.09994328]\n",
      "[-0.08912799  0.09307819  0.02653819 -0.05766308 -0.03045979 -0.09994328]\n",
      "[-0.08912799  0.09307819  0.02653819 -0.05766308 -0.03045979 -0.09994328]\n",
      "[-0.08912799  0.09307819  0.02653819 -0.05766308 -0.03045979 -0.09994328]\n",
      "[-0.08912799  0.09307819  0.02653819 -0.05766308 -0.03045979 -0.09994328]\n",
      "[-0.08912799  0.09307819  0.02653819 -0.05766308 -0.03045979 -0.09994328]\n",
      "[-0.08912799  0.09307819  0.02653819 -0.05766308 -0.03045979 -0.09994328]\n",
      "[-0.08912799  0.09307819  0.02653819 -0.05766308 -0.03045979 -0.09994328]\n",
      "[-0.08912799  0.09307819  0.02653819 -0.05766308 -0.03045979 -0.09994328]\n",
      "[-0.08912799  0.09307819  0.02653819 -0.05766308 -0.03045979 -0.09994328]\n",
      "[-0.08912799  0.09307819  0.02653819 -0.05766308 -0.03045979 -0.09994328]\n",
      "[-0.08912799  0.09307819  0.02653819 -0.05766308 -0.03045979 -0.09994328]\n",
      "[-0.08912799  0.09307819  0.02653819 -0.05766308 -0.03045979 -0.09994328]\n",
      "[-0.08912799  0.09307819  0.02653819 -0.05766308 -0.03045979 -0.09994328]\n",
      "[-0.08912799  0.09307819  0.02653819 -0.05766308 -0.03045979 -0.09994328]\n",
      "[-0.08912799  0.09307819  0.02653819 -0.05766308 -0.03045979 -0.09994328]\n",
      "[-0.08912799  0.09307819  0.02653819 -0.05766308 -0.03045979 -0.09994328]\n",
      "[-0.08912799  0.09307819  0.02653819 -0.05766308 -0.03045979 -0.09994328]\n",
      "[-0.08912799  0.09307819  0.02653819 -0.05766308 -0.03045979 -0.09994328]\n",
      "[-0.08912799  0.09307819  0.02653819 -0.05766308 -0.03045979 -0.09994328]\n",
      "[-0.08912799  0.09307819  0.02653819 -0.05766308 -0.03045979 -0.09994328]\n",
      "[-0.08912799  0.09307819  0.02653819 -0.05766308 -0.03045979 -0.09994328]\n",
      "[-0.08912799  0.09307819  0.02653819 -0.05766308 -0.03045979 -0.09994328]\n",
      "[-0.08912799  0.09307819  0.02653819 -0.05766308 -0.03045979 -0.09994328]\n",
      "[-0.08912799  0.09307819  0.02653819 -0.05766308 -0.03045979 -0.09994328]\n",
      "[-0.08912799  0.09307819  0.02653819 -0.05766308 -0.03045979 -0.09994328]\n",
      "[-0.08912799  0.09307819  0.02653819 -0.05766308 -0.03045979 -0.09994328]\n",
      "[-0.08912799  0.09307819  0.02653819 -0.05766308 -0.03045979 -0.09994328]\n",
      "[-0.08912799  0.09307819  0.02653819 -0.05766308 -0.03045979 -0.09994328]\n",
      "[-0.08912799  0.09307819  0.02653819 -0.05766308 -0.03045979 -0.09994328]\n",
      "[-0.08912799  0.09307819  0.02653819 -0.05766308 -0.03045979 -0.09994328]\n",
      "[-0.08912799  0.09307819  0.02653819 -0.05766308 -0.03045979 -0.09994328]\n",
      "[-0.08912799  0.09307819  0.02653819 -0.05766308 -0.03045979 -0.09994328]\n",
      "[-0.08912799  0.09307819  0.02653819 -0.05766308 -0.03045979 -0.09994328]\n",
      "[-0.08912799  0.09307819  0.02653819 -0.05766308 -0.03045979 -0.09994328]\n",
      "[-0.08912799  0.09307819  0.02653819 -0.05766308 -0.03045979 -0.09994328]\n",
      "[-0.08912799  0.09307819  0.02653819 -0.05766308 -0.03045979 -0.09994328]\n",
      "[-0.08912799  0.09307819  0.02653819 -0.05766308 -0.03045979 -0.09994328]\n",
      "[-0.08912799  0.09307819  0.02653819 -0.05766308 -0.03045979 -0.09994328]\n"
     ]
    },
    {
     "name": "stdout",
     "output_type": "stream",
     "text": [
      "[-0.08912799  0.09307819  0.02653819 -0.05766308 -0.03045979 -0.09994328]\n",
      "[-0.08912799  0.09307819  0.02653819 -0.05766308 -0.03045979 -0.09994328]\n",
      "[-0.08912799  0.09307819  0.02653819 -0.05766308 -0.03045979 -0.09994328]\n",
      "[-0.08912799  0.09307819  0.02653819 -0.05766308 -0.03045979 -0.09994328]\n",
      "[-0.08912799  0.09307819  0.02653819 -0.05766308 -0.03045979 -0.09994328]\n",
      "[-0.08912799  0.09307819  0.02653819 -0.05766308 -0.03045979 -0.09994328]\n",
      "[-0.08912799  0.09307819  0.02653819 -0.05766308 -0.03045979 -0.09994328]\n",
      "[-0.08912799  0.09307819  0.02653819 -0.05766308 -0.03045979 -0.09994328]\n",
      "[-0.08912799  0.09307819  0.02653819 -0.05766308 -0.03045979 -0.09994328]\n",
      "[-0.08912799  0.09307819  0.02653819 -0.05766308 -0.03045979 -0.09994328]\n",
      "[-0.08912799  0.09307819  0.02653819 -0.05766308 -0.03045979 -0.09994328]\n",
      "[-0.08912799  0.09307819  0.02653819 -0.05766308 -0.03045979 -0.09994328]\n",
      "[-0.08912799  0.09307819  0.02653819 -0.05766308 -0.03045979 -0.09994328]\n",
      "[-0.08912799  0.09307819  0.02653819 -0.05766308 -0.03045979 -0.09994328]\n",
      "[-0.08912799  0.09307819  0.02653819 -0.05766308 -0.03045979 -0.09994328]\n",
      "[-0.08912799  0.09307819  0.02653819 -0.05766308 -0.03045979 -0.09994328]\n",
      "[-0.08912799  0.09307819  0.02653819 -0.05766308 -0.03045979 -0.09994328]\n",
      "[-0.08912799  0.09307819  0.02653819 -0.05766308 -0.03045979 -0.09994328]\n",
      "[-0.08912799  0.09307819  0.02653819 -0.05766308 -0.03045979 -0.09994328]\n",
      "[-0.08912799  0.09307819  0.02653819 -0.05766308 -0.03045979 -0.09994328]\n",
      "[-0.08912799  0.09307819  0.02653819 -0.05766308 -0.03045979 -0.09994328]\n",
      "[-0.08912799  0.09307819  0.02653819 -0.05766308 -0.03045979 -0.09994328]\n",
      "[-0.08912799  0.09307819  0.02653819 -0.05766308 -0.03045979 -0.09994328]\n",
      "[-0.08912799  0.09307819  0.02653819 -0.05766308 -0.03045979 -0.09994328]\n",
      "[-0.08912799  0.09307819  0.02653819 -0.05766308 -0.03045979 -0.09994328]\n",
      "[-0.08912799  0.09307819  0.02653819 -0.05766308 -0.03045979 -0.09994328]\n",
      "[-0.08912799  0.09307819  0.02653819 -0.05766308 -0.03045979 -0.09994328]\n",
      "[-0.08912799  0.09307819  0.02653819 -0.05766308 -0.03045979 -0.09994328]\n",
      "[-0.08912799  0.09307819  0.02653819 -0.05766308 -0.03045979 -0.09994328]\n",
      "[-0.08912799  0.09307819  0.02653819 -0.05766308 -0.03045979 -0.09994328]\n",
      "[-0.08912799  0.09307819  0.02653819 -0.05766308 -0.03045979 -0.09994328]\n",
      "[-0.08912799  0.09307819  0.02653819 -0.05766308 -0.03045979 -0.09994328]\n",
      "[-0.08912799  0.09307819  0.02653819 -0.05766308 -0.03045979 -0.09994328]\n",
      "[-0.08912799  0.09307819  0.02653819 -0.05766308 -0.03045979 -0.09994328]\n",
      "[-0.08912799  0.09307819  0.02653819 -0.05766308 -0.03045979 -0.09994328]\n",
      "[-0.08912799  0.09307819  0.02653819 -0.05766308 -0.03045979 -0.09994328]\n",
      "[-0.08912799  0.09307819  0.02653819 -0.05766308 -0.03045979 -0.09994328]\n",
      "[-0.08912799  0.09307819  0.02653819 -0.05766308 -0.03045979 -0.09994328]\n",
      "[-0.08912799  0.09307819  0.02653819 -0.05766308 -0.03045979 -0.09994328]\n",
      "[-0.08912799  0.09307819  0.02653819 -0.05766308 -0.03045979 -0.09994328]\n",
      "[-0.08912799  0.09307819  0.02653819 -0.05766308 -0.03045979 -0.09994328]\n",
      "[-0.08912799  0.09307819  0.02653819 -0.05766308 -0.03045979 -0.09994328]\n",
      "[-0.08912799  0.09307819  0.02653819 -0.05766308 -0.03045979 -0.09994328]\n",
      "[-0.08912799  0.09307819  0.02653819 -0.05766308 -0.03045979 -0.09994328]\n",
      "[-0.08912799  0.09307819  0.02653819 -0.05766308 -0.03045979 -0.09994328]\n",
      "[-0.08912799  0.09307819  0.02653819 -0.05766308 -0.03045979 -0.09994328]\n",
      "[-0.08912799  0.09307819  0.02653819 -0.05766308 -0.03045979 -0.09994328]\n",
      "[-0.08912799  0.09307819  0.02653819 -0.05766308 -0.03045979 -0.09994328]\n",
      "[-0.08912799  0.09307819  0.02653819 -0.05766308 -0.03045979 -0.09994328]\n",
      "[-0.08912799  0.09307819  0.02653819 -0.05766308 -0.03045979 -0.09994328]\n",
      "[-0.08912799  0.09307819  0.02653819 -0.05766308 -0.03045979 -0.09994328]\n",
      "[-0.08912799  0.09307819  0.02653819 -0.05766308 -0.03045979 -0.09994328]\n",
      "[-0.08912799  0.09307819  0.02653819 -0.05766308 -0.03045979 -0.09994328]\n",
      "[-0.08912799  0.09307819  0.02653819 -0.05766308 -0.03045979 -0.09994328]\n",
      "[-0.08912799  0.09307819  0.02653819 -0.05766308 -0.03045979 -0.09994328]\n",
      "[-0.08912799  0.09307819  0.02653819 -0.05766308 -0.03045979 -0.09994328]\n",
      "[-0.08912799  0.09307819  0.02653819 -0.05766308 -0.03045979 -0.09994328]\n",
      "[-0.08912799  0.09307819  0.02653819 -0.05766308 -0.03045979 -0.09994328]\n",
      "[-0.08912799  0.09307819  0.02653819 -0.05766308 -0.03045979 -0.09994328]\n",
      "[-0.08912799  0.09307819  0.02653819 -0.05766308 -0.03045979 -0.09994328]\n",
      "[-0.08912799  0.09307819  0.02653819 -0.05766308 -0.03045979 -0.09994328]\n",
      "[-0.08912799  0.09307819  0.02653819 -0.05766308 -0.03045979 -0.09994328]\n",
      "[-0.08912799  0.09307819  0.02653819 -0.05766308 -0.03045979 -0.09994328]\n",
      "[-0.08912799  0.09307819  0.02653819 -0.05766308 -0.03045979 -0.09994328]\n",
      "[-0.08912799  0.09307819  0.02653819 -0.05766308 -0.03045979 -0.09994328]\n",
      "[-0.08912799  0.09307819  0.02653819 -0.05766308 -0.03045979 -0.09994328]\n",
      "[-0.08912799  0.09307819  0.02653819 -0.05766308 -0.03045979 -0.09994328]\n",
      "[-0.08912799  0.09307819  0.02653819 -0.05766308 -0.03045979 -0.09994328]\n",
      "[-0.08912799  0.09307819  0.02653819 -0.05766308 -0.03045979 -0.09994328]\n",
      "[-0.08912799  0.09307819  0.02653819 -0.05766308 -0.03045979 -0.09994328]\n",
      "[-0.08912799  0.09307819  0.02653819 -0.05766308 -0.03045979 -0.09994328]\n",
      "[-0.08912799  0.09307819  0.02653819 -0.05766308 -0.03045979 -0.09994328]\n",
      "[-0.08912799  0.09307819  0.02653819 -0.05766308 -0.03045979 -0.09994328]\n",
      "[-0.08912799  0.09307819  0.02653819 -0.05766308 -0.03045979 -0.09994328]\n",
      "[-0.08912799  0.09307819  0.02653819 -0.05766308 -0.03045979 -0.09994328]\n",
      "[-0.08912799  0.09307819  0.02653819 -0.05766308 -0.03045979 -0.09994328]\n",
      "[-0.08912799  0.09307819  0.02653819 -0.05766308 -0.03045979 -0.09994328]\n",
      "[-0.08912799  0.09307819  0.02653819 -0.05766308 -0.03045979 -0.09994328]\n",
      "[-0.08912799  0.09307819  0.02653819 -0.05766308 -0.03045979 -0.09994328]\n",
      "[-0.08912799  0.09307819  0.02653819 -0.05766308 -0.03045979 -0.09994328]\n",
      "[-0.08912799  0.09307819  0.02653819 -0.05766308 -0.03045979 -0.09994328]\n",
      "[-0.08912799  0.09307819  0.02653819 -0.05766308 -0.03045979 -0.09994328]\n",
      "[-0.08912799  0.09307819  0.02653819 -0.05766308 -0.03045979 -0.09994328]\n",
      "[-0.08912799  0.09307819  0.02653819 -0.05766308 -0.03045979 -0.09994328]\n",
      "[-0.08912799  0.09307819  0.02653819 -0.05766308 -0.03045979 -0.09994328]\n",
      "[-0.08912799  0.09307819  0.02653819 -0.05766308 -0.03045979 -0.09994328]\n",
      "[-0.08912799  0.09307819  0.02653819 -0.05766308 -0.03045979 -0.09994328]\n",
      "[-0.08912799  0.09307819  0.02653819 -0.05766308 -0.03045979 -0.09994328]\n",
      "[-0.08912799  0.09307819  0.02653819 -0.05766308 -0.03045979 -0.09994328]\n",
      "[-0.08912799  0.09307819  0.02653819 -0.05766308 -0.03045979 -0.09994328]\n",
      "[-0.08912799  0.09307819  0.02653819 -0.05766308 -0.03045979 -0.09994328]\n",
      "[-0.08912799  0.09307819  0.02653819 -0.05766308 -0.03045979 -0.09994328]\n",
      "[-0.08912799  0.09307819  0.02653819 -0.05766308 -0.03045979 -0.09994328]\n",
      "[-0.08912799  0.09307819  0.02653819 -0.05766308 -0.03045979 -0.09994328]\n",
      "[-0.08912799  0.09307819  0.02653819 -0.05766308 -0.03045979 -0.09994328]\n",
      "[-0.08912799  0.09307819  0.02653819 -0.05766308 -0.03045979 -0.09994328]\n",
      "[-0.08912799  0.09307819  0.02653819 -0.05766308 -0.03045979 -0.09994328]\n",
      "[-0.08912799  0.09307819  0.02653819 -0.05766308 -0.03045979 -0.09994328]\n",
      "[-0.08912799  0.09307819  0.02653819 -0.05766308 -0.03045979 -0.09994328]\n",
      "[-0.08912799  0.09307819  0.02653819 -0.05766308 -0.03045979 -0.09994328]\n",
      "[-0.08912799  0.09307819  0.02653819 -0.05766308 -0.03045979 -0.09994328]\n",
      "[-0.08912799  0.09307819  0.02653819 -0.05766308 -0.03045979 -0.09994328]\n",
      "[-0.08912799  0.09307819  0.02653819 -0.05766308 -0.03045979 -0.09994328]\n",
      "[-0.08912799  0.09307819  0.02653819 -0.05766308 -0.03045979 -0.09994328]\n",
      "[-0.08912799  0.09307819  0.02653819 -0.05766308 -0.03045979 -0.09994328]\n",
      "[-0.08912799  0.09307819  0.02653819 -0.05766308 -0.03045979 -0.09994328]\n",
      "[-0.08912799  0.09307819  0.02653819 -0.05766308 -0.03045979 -0.09994328]\n",
      "[-0.08912799  0.09307819  0.02653819 -0.05766308 -0.03045979 -0.09994328]\n",
      "[-0.08912799  0.09307819  0.02653819 -0.05766308 -0.03045979 -0.09994328]\n",
      "[-0.08912799  0.09307819  0.02653819 -0.05766308 -0.03045979 -0.09994328]\n",
      "[-0.08912799  0.09307819  0.02653819 -0.05766308 -0.03045979 -0.09994328]\n",
      "[-0.08912799  0.09307819  0.02653819 -0.05766308 -0.03045979 -0.09994328]\n",
      "[-0.08912799  0.09307819  0.02653819 -0.05766308 -0.03045979 -0.09994328]\n"
     ]
    },
    {
     "name": "stdout",
     "output_type": "stream",
     "text": [
      "[-0.08912799  0.09307819  0.02653819 -0.05766308 -0.03045979 -0.09994328]\n",
      "[-0.08912799  0.09307819  0.02653819 -0.05766308 -0.03045979 -0.09994328]\n",
      "[-0.08912799  0.09307819  0.02653819 -0.05766308 -0.03045979 -0.09994328]\n",
      "[-0.08912799  0.09307819  0.02653819 -0.05766308 -0.03045979 -0.09994328]\n",
      "[-0.08912799  0.09307819  0.02653819 -0.05766308 -0.03045979 -0.09994328]\n",
      "[-0.08912799  0.09307819  0.02653819 -0.05766308 -0.03045979 -0.09994328]\n",
      "[-0.08912799  0.09307819  0.02653819 -0.05766308 -0.03045979 -0.09994328]\n",
      "[-0.08912799  0.09307819  0.02653819 -0.05766308 -0.03045979 -0.09994328]\n",
      "[-0.08912799  0.09307819  0.02653819 -0.05766308 -0.03045979 -0.09994328]\n",
      "[-0.08912799  0.09307819  0.02653819 -0.05766308 -0.03045979 -0.09994328]\n",
      "[-0.08912799  0.09307819  0.02653819 -0.05766308 -0.03045979 -0.09994328]\n",
      "[-0.08912799  0.09307819  0.02653819 -0.05766308 -0.03045979 -0.09994328]\n",
      "[-0.08912799  0.09307819  0.02653819 -0.05766308 -0.03045979 -0.09994328]\n",
      "[-0.08912799  0.09307819  0.02653819 -0.05766308 -0.03045979 -0.09994328]\n",
      "[-0.08912799  0.09307819  0.02653819 -0.05766308 -0.03045979 -0.09994328]\n",
      "[-0.08912799  0.09307819  0.02653819 -0.05766308 -0.03045979 -0.09994328]\n",
      "[-0.08912799  0.09307819  0.02653819 -0.05766308 -0.03045979 -0.09994328]\n",
      "[-0.08912799  0.09307819  0.02653819 -0.05766308 -0.03045979 -0.09994328]\n",
      "[-0.08912799  0.09307819  0.02653819 -0.05766308 -0.03045979 -0.09994328]\n",
      "[-0.08912799  0.09307819  0.02653819 -0.05766308 -0.03045979 -0.09994328]\n",
      "[-0.08912799  0.09307819  0.02653819 -0.05766308 -0.03045979 -0.09994328]\n",
      "[-0.08912799  0.09307819  0.02653819 -0.05766308 -0.03045979 -0.09994328]\n",
      "[-0.08912799  0.09307819  0.02653819 -0.05766308 -0.03045979 -0.09994328]\n",
      "[-0.08912799  0.09307819  0.02653819 -0.05766308 -0.03045979 -0.09994328]\n",
      "[-0.08912799  0.09307819  0.02653819 -0.05766308 -0.03045979 -0.09994328]\n",
      "[-0.08912799  0.09307819  0.02653819 -0.05766308 -0.03045979 -0.09994328]\n",
      "[-0.08912799  0.09307819  0.02653819 -0.05766308 -0.03045979 -0.09994328]\n",
      "[-0.08912799  0.09307819  0.02653819 -0.05766308 -0.03045979 -0.09994328]\n",
      "[-0.08912799  0.09307819  0.02653819 -0.05766308 -0.03045979 -0.09994328]\n",
      "[-0.08912799  0.09307819  0.02653819 -0.05766308 -0.03045979 -0.09994328]\n",
      "[-0.08912799  0.09307819  0.02653819 -0.05766308 -0.03045979 -0.09994328]\n",
      "[-0.08912799  0.09307819  0.02653819 -0.05766308 -0.03045979 -0.09994328]\n",
      "[-0.08912799  0.09307819  0.02653819 -0.05766308 -0.03045979 -0.09994328]\n",
      "[-0.08912799  0.09307819  0.02653819 -0.05766308 -0.03045979 -0.09994328]\n",
      "[-0.08912799  0.09307819  0.02653819 -0.05766308 -0.03045979 -0.09994328]\n",
      "[-0.08912799  0.09307819  0.02653819 -0.05766308 -0.03045979 -0.09994328]\n",
      "[-0.08912799  0.09307819  0.02653819 -0.05766308 -0.03045979 -0.09994328]\n",
      "[-0.08912799  0.09307819  0.02653819 -0.05766308 -0.03045979 -0.09994328]\n",
      "[-0.08912799  0.09307819  0.02653819 -0.05766308 -0.03045979 -0.09994328]\n",
      "[-0.08912799  0.09307819  0.02653819 -0.05766308 -0.03045979 -0.09994328]\n",
      "[-0.08912799  0.09307819  0.02653819 -0.05766308 -0.03045979 -0.09994328]\n",
      "[-0.08912799  0.09307819  0.02653819 -0.05766308 -0.03045979 -0.09994328]\n",
      "[-0.08912799  0.09307819  0.02653819 -0.05766308 -0.03045979 -0.09994328]\n",
      "[-0.08912799  0.09307819  0.02653819 -0.05766308 -0.03045979 -0.09994328]\n",
      "[-0.08912799  0.09307819  0.02653819 -0.05766308 -0.03045979 -0.09994328]\n",
      "[-0.08912799  0.09307819  0.02653819 -0.05766308 -0.03045979 -0.09994328]\n",
      "[-0.08912799  0.09307819  0.02653819 -0.05766308 -0.03045979 -0.09994328]\n",
      "[-0.08912799  0.09307819  0.02653819 -0.05766308 -0.03045979 -0.09994328]\n",
      "[-0.08912799  0.09307819  0.02653819 -0.05766308 -0.03045979 -0.09994328]\n",
      "[-0.08912799  0.09307819  0.02653819 -0.05766308 -0.03045979 -0.09994328]\n",
      "[-0.08912799  0.09307819  0.02653819 -0.05766308 -0.03045979 -0.09994328]\n",
      "[-0.08912799  0.09307819  0.02653819 -0.05766308 -0.03045979 -0.09994328]\n",
      "[-0.08912799  0.09307819  0.02653819 -0.05766308 -0.03045979 -0.09994328]\n",
      "[-0.08912799  0.09307819  0.02653819 -0.05766308 -0.03045979 -0.09994328]\n",
      "[-0.08912799  0.09307819  0.02653819 -0.05766308 -0.03045979 -0.09994328]\n",
      "[-0.08912799  0.09307819  0.02653819 -0.05766308 -0.03045979 -0.09994328]\n",
      "[-0.08912799  0.09307819  0.02653819 -0.05766308 -0.03045979 -0.09994328]\n",
      "[-0.08912799  0.09307819  0.02653819 -0.05766308 -0.03045979 -0.09994328]\n",
      "[-0.08912799  0.09307819  0.02653819 -0.05766308 -0.03045979 -0.09994328]\n",
      "[-0.08912799  0.09307819  0.02653819 -0.05766308 -0.03045979 -0.09994328]\n",
      "[-0.08912799  0.09307819  0.02653819 -0.05766308 -0.03045979 -0.09994328]\n",
      "[-0.08912799  0.09307819  0.02653819 -0.05766308 -0.03045979 -0.09994328]\n",
      "[-0.08912799  0.09307819  0.02653819 -0.05766308 -0.03045979 -0.09994328]\n",
      "[-0.08912799  0.09307819  0.02653819 -0.05766308 -0.03045979 -0.09994328]\n",
      "[-0.08912799  0.09307819  0.02653819 -0.05766308 -0.03045979 -0.09994328]\n",
      "[-0.08912799  0.09307819  0.02653819 -0.05766308 -0.03045979 -0.09994328]\n",
      "[-0.08912799  0.09307819  0.02653819 -0.05766308 -0.03045979 -0.09994328]\n",
      "[-0.08912799  0.09307819  0.02653819 -0.05766308 -0.03045979 -0.09994328]\n",
      "[-0.08912799  0.09307819  0.02653819 -0.05766308 -0.03045979 -0.09994328]\n",
      "[-0.08912799  0.09307819  0.02653819 -0.05766308 -0.03045979 -0.09994328]\n",
      "[-0.08912799  0.09307819  0.02653819 -0.05766308 -0.03045979 -0.09994328]\n",
      "[-0.08912799  0.09307819  0.02653819 -0.05766308 -0.03045979 -0.09994328]\n",
      "[-0.08912799  0.09307819  0.02653819 -0.05766308 -0.03045979 -0.09994328]\n",
      "[-0.08912799  0.09307819  0.02653819 -0.05766308 -0.03045979 -0.09994328]\n",
      "[-0.08912799  0.09307819  0.02653819 -0.05766308 -0.03045979 -0.09994328]\n",
      "[-0.08912799  0.09307819  0.02653819 -0.05766308 -0.03045979 -0.09994328]\n",
      "[-0.08912799  0.09307819  0.02653819 -0.05766308 -0.03045979 -0.09994328]\n",
      "[-0.08912799  0.09307819  0.02653819 -0.05766308 -0.03045979 -0.09994328]\n",
      "[-0.08912799  0.09307819  0.02653819 -0.05766308 -0.03045979 -0.09994328]\n",
      "[-0.08912799  0.09307819  0.02653819 -0.05766308 -0.03045979 -0.09994328]\n",
      "[-0.08912799  0.09307819  0.02653819 -0.05766308 -0.03045979 -0.09994328]\n",
      "[-0.08912799  0.09307819  0.02653819 -0.05766308 -0.03045979 -0.09994328]\n",
      "[-0.08912799  0.09307819  0.02653819 -0.05766308 -0.03045979 -0.09994328]\n",
      "[-0.08912799  0.09307819  0.02653819 -0.05766308 -0.03045979 -0.09994328]\n",
      "[-0.08912799  0.09307819  0.02653819 -0.05766308 -0.03045979 -0.09994328]\n",
      "[-0.08912799  0.09307819  0.02653819 -0.05766308 -0.03045979 -0.09994328]\n",
      "[-0.08912799  0.09307819  0.02653819 -0.05766308 -0.03045979 -0.09994328]\n",
      "[-0.08912799  0.09307819  0.02653819 -0.05766308 -0.03045979 -0.09994328]\n",
      "[-0.08912799  0.09307819  0.02653819 -0.05766308 -0.03045979 -0.09994328]\n",
      "[-0.08912799  0.09307819  0.02653819 -0.05766308 -0.03045979 -0.09994328]\n",
      "[-0.08912799  0.09307819  0.02653819 -0.05766308 -0.03045979 -0.09994328]\n",
      "[-0.08912799  0.09307819  0.02653819 -0.05766308 -0.03045979 -0.09994328]\n",
      "[-0.08912799  0.09307819  0.02653819 -0.05766308 -0.03045979 -0.09994328]\n",
      "[-0.08912799  0.09307819  0.02653819 -0.05766308 -0.03045979 -0.09994328]\n",
      "[-0.08912799  0.09307819  0.02653819 -0.05766308 -0.03045979 -0.09994328]\n",
      "[-0.08912799  0.09307819  0.02653819 -0.05766308 -0.03045979 -0.09994328]\n",
      "[-0.08912799  0.09307819  0.02653819 -0.05766308 -0.03045979 -0.09994328]\n",
      "[-0.08912799  0.09307819  0.02653819 -0.05766308 -0.03045979 -0.09994328]\n",
      "[-0.08912799  0.09307819  0.02653819 -0.05766308 -0.03045979 -0.09994328]\n",
      "[-0.08912799  0.09307819  0.02653819 -0.05766308 -0.03045979 -0.09994328]\n",
      "[-0.08912799  0.09307819  0.02653819 -0.05766308 -0.03045979 -0.09994328]\n",
      "[-0.08912799  0.09307819  0.02653819 -0.05766308 -0.03045979 -0.09994328]\n",
      "[-0.08912799  0.09307819  0.02653819 -0.05766308 -0.03045979 -0.09994328]\n",
      "[-0.08912799  0.09307819  0.02653819 -0.05766308 -0.03045979 -0.09994328]\n",
      "[-0.08912799  0.09307819  0.02653819 -0.05766308 -0.03045979 -0.09994328]\n",
      "[-0.08912799  0.09307819  0.02653819 -0.05766308 -0.03045979 -0.09994328]\n",
      "[-0.08912799  0.09307819  0.02653819 -0.05766308 -0.03045979 -0.09994328]\n",
      "[-0.08912799  0.09307819  0.02653819 -0.05766308 -0.03045979 -0.09994328]\n",
      "[-0.08912799  0.09307819  0.02653819 -0.05766308 -0.03045979 -0.09994328]\n",
      "[-0.08912799  0.09307819  0.02653819 -0.05766308 -0.03045979 -0.09994328]\n",
      "[-0.08912799  0.09307819  0.02653819 -0.05766308 -0.03045979 -0.09994328]\n",
      "[-0.08912799  0.09307819  0.02653819 -0.05766308 -0.03045979 -0.09994328]\n",
      "[-0.08912799  0.09307819  0.02653819 -0.05766308 -0.03045979 -0.09994328]\n",
      "[-0.08912799  0.09307819  0.02653819 -0.05766308 -0.03045979 -0.09994328]\n"
     ]
    },
    {
     "name": "stdout",
     "output_type": "stream",
     "text": [
      "[-0.08912799  0.09307819  0.02653819 -0.05766308 -0.03045979 -0.09994328]\n",
      "[-0.08912799  0.09307819  0.02653819 -0.05766308 -0.03045979 -0.09994328]\n",
      "[-0.08912799  0.09307819  0.02653819 -0.05766308 -0.03045979 -0.09994328]\n",
      "[-0.08912799  0.09307819  0.02653819 -0.05766308 -0.03045979 -0.09994328]\n",
      "[-0.08912799  0.09307819  0.02653819 -0.05766308 -0.03045979 -0.09994328]\n",
      "[-0.08912799  0.09307819  0.02653819 -0.05766308 -0.03045979 -0.09994328]\n",
      "[-0.08912799  0.09307819  0.02653819 -0.05766308 -0.03045979 -0.09994328]\n",
      "[-0.08912799  0.09307819  0.02653819 -0.05766308 -0.03045979 -0.09994328]\n",
      "[-0.08912799  0.09307819  0.02653819 -0.05766308 -0.03045979 -0.09994328]\n",
      "[-0.08912799  0.09307819  0.02653819 -0.05766308 -0.03045979 -0.09994328]\n",
      "[-0.08912799  0.09307819  0.02653819 -0.05766308 -0.03045979 -0.09994328]\n",
      "[-0.08912799  0.09307819  0.02653819 -0.05766308 -0.03045979 -0.09994328]\n",
      "[-0.08912799  0.09307819  0.02653819 -0.05766308 -0.03045979 -0.09994328]\n",
      "[-0.08912799  0.09307819  0.02653819 -0.05766308 -0.03045979 -0.09994328]\n",
      "[-0.08912799  0.09307819  0.02653819 -0.05766308 -0.03045979 -0.09994328]\n",
      "[-0.08912799  0.09307819  0.02653819 -0.05766308 -0.03045979 -0.09994328]\n",
      "[-0.08912799  0.09307819  0.02653819 -0.05766308 -0.03045979 -0.09994328]\n",
      "[-0.08912799  0.09307819  0.02653819 -0.05766308 -0.03045979 -0.09994328]\n",
      "[-0.08912799  0.09307819  0.02653819 -0.05766308 -0.03045979 -0.09994328]\n",
      "[-0.08912799  0.09307819  0.02653819 -0.05766308 -0.03045979 -0.09994328]\n",
      "[-0.08912799  0.09307819  0.02653819 -0.05766308 -0.03045979 -0.09994328]\n",
      "[-0.08912799  0.09307819  0.02653819 -0.05766308 -0.03045979 -0.09994328]\n",
      "[-0.08912799  0.09307819  0.02653819 -0.05766308 -0.03045979 -0.09994328]\n",
      "[-0.08912799  0.09307819  0.02653819 -0.05766308 -0.03045979 -0.09994328]\n",
      "[-0.08912799  0.09307819  0.02653819 -0.05766308 -0.03045979 -0.09994328]\n",
      "[-0.08912799  0.09307819  0.02653819 -0.05766308 -0.03045979 -0.09994328]\n",
      "[-0.08912799  0.09307819  0.02653819 -0.05766308 -0.03045979 -0.09994328]\n",
      "[-0.08912799  0.09307819  0.02653819 -0.05766308 -0.03045979 -0.09994328]\n",
      "[-0.08912799  0.09307819  0.02653819 -0.05766308 -0.03045979 -0.09994328]\n",
      "[-0.08912799  0.09307819  0.02653819 -0.05766308 -0.03045979 -0.09994328]\n",
      "[-0.08912799  0.09307819  0.02653819 -0.05766308 -0.03045979 -0.09994328]\n",
      "[-0.08912799  0.09307819  0.02653819 -0.05766308 -0.03045979 -0.09994328]\n",
      "[-0.08912799  0.09307819  0.02653819 -0.05766308 -0.03045979 -0.09994328]\n",
      "[-0.08912799  0.09307819  0.02653819 -0.05766308 -0.03045979 -0.09994328]\n",
      "[-0.08912799  0.09307819  0.02653819 -0.05766308 -0.03045979 -0.09994328]\n",
      "[-0.08912799  0.09307819  0.02653819 -0.05766308 -0.03045979 -0.09994328]\n",
      "[-0.08912799  0.09307819  0.02653819 -0.05766308 -0.03045979 -0.09994328]\n",
      "[-0.08912799  0.09307819  0.02653819 -0.05766308 -0.03045979 -0.09994328]\n",
      "[-0.08912799  0.09307819  0.02653819 -0.05766308 -0.03045979 -0.09994328]\n",
      "[-0.08912799  0.09307819  0.02653819 -0.05766308 -0.03045979 -0.09994328]\n",
      "[-0.08912799  0.09307819  0.02653819 -0.05766308 -0.03045979 -0.09994328]\n",
      "[-0.08912799  0.09307819  0.02653819 -0.05766308 -0.03045979 -0.09994328]\n",
      "[-0.08912799  0.09307819  0.02653819 -0.05766308 -0.03045979 -0.09994328]\n",
      "[-0.08912799  0.09307819  0.02653819 -0.05766308 -0.03045979 -0.09994328]\n",
      "[-0.08912799  0.09307819  0.02653819 -0.05766308 -0.03045979 -0.09994328]\n",
      "[-0.08912799  0.09307819  0.02653819 -0.05766308 -0.03045979 -0.09994328]\n",
      "[-0.08912799  0.09307819  0.02653819 -0.05766308 -0.03045979 -0.09994328]\n",
      "[-0.08912799  0.09307819  0.02653819 -0.05766308 -0.03045979 -0.09994328]\n",
      "[-0.08912799  0.09307819  0.02653819 -0.05766308 -0.03045979 -0.09994328]\n",
      "[-0.08912799  0.09307819  0.02653819 -0.05766308 -0.03045979 -0.09994328]\n",
      "[-0.08912799  0.09307819  0.02653819 -0.05766308 -0.03045979 -0.09994328]\n",
      "[-0.08912799  0.09307819  0.02653819 -0.05766308 -0.03045979 -0.09994328]\n",
      "[-0.08912799  0.09307819  0.02653819 -0.05766308 -0.03045979 -0.09994328]\n",
      "[-0.08912799  0.09307819  0.02653819 -0.05766308 -0.03045979 -0.09994328]\n",
      "[-0.08912799  0.09307819  0.02653819 -0.05766308 -0.03045979 -0.09994328]\n",
      "[-0.08912799  0.09307819  0.02653819 -0.05766308 -0.03045979 -0.09994328]\n",
      "[-0.08912799  0.09307819  0.02653819 -0.05766308 -0.03045979 -0.09994328]\n",
      "[-0.08912799  0.09307819  0.02653819 -0.05766308 -0.03045979 -0.09994328]\n",
      "[-0.08912799  0.09307819  0.02653819 -0.05766308 -0.03045979 -0.09994328]\n",
      "[-0.08912799  0.09307819  0.02653819 -0.05766308 -0.03045979 -0.09994328]\n",
      "[-0.08912799  0.09307819  0.02653819 -0.05766308 -0.03045979 -0.09994328]\n",
      "[-0.08912799  0.09307819  0.02653819 -0.05766308 -0.03045979 -0.09994328]\n",
      "[-0.08912799  0.09307819  0.02653819 -0.05766308 -0.03045979 -0.09994328]\n",
      "[-0.08912799  0.09307819  0.02653819 -0.05766308 -0.03045979 -0.09994328]\n"
     ]
    }
   ],
   "source": [
    "print('Safety embeds:', params['safety_embeddings'])\n",
    "params['optimizer'] = 'BGES'\n",
    "params['use_safety'] = False\n",
    "params['use_repel'] = True\n",
    "df_unsafe_BGES = train(params)"
   ]
  },
  {
   "cell_type": "code",
   "execution_count": 228,
   "metadata": {},
   "outputs": [
    {
     "data": {
      "text/plain": [
       "<AxesSubplot:xlabel='Embeddings_x', ylabel='Embeddings_y'>"
      ]
     },
     "execution_count": 228,
     "metadata": {},
     "output_type": "execute_result"
    },
    {
     "data": {
      "image/png": "[encoded data removed]",
      "text/plain": [
       "<Figure size 432x288 with 1 Axes>"
      ]
     },
     "metadata": {
      "needs_background": "light"
     },
     "output_type": "display_data"
    }
   ],
   "source": [
    "df_unsafe_BGES['Embeddings_x'] = [d[0] for d in df_unsafe_BGES['Embeddings']]\n",
    "df_unsafe_BGES['Embeddings_y'] = [d[1] for d in df_unsafe_BGES['Embeddings']]\n",
    "fig, ax = plt.subplots()\n",
    "sns.scatterplot(x='Embeddings_x', y='Embeddings_y', hue='Timesteps', data=df_unsafe_BGES, ax=ax)\n",
    "sns.scatterplot(x=[e[0] for e in params['safety_embeddings']], y=[e[1] for e in params['safety_embeddings']])\n",
    "sns.scatterplot(x=[25,], y=[0,], ax=ax)"
   ]
  },
  {
   "cell_type": "code",
   "execution_count": 95,
   "metadata": {},
   "outputs": [
    {
     "name": "stdout",
     "output_type": "stream",
     "text": [
      "Safety embeds: [array([22.35299169, -0.87836719]), array([22.09840634, -0.09951938]), array([20.69968388,  4.54605847]), array([15.56312226,  0.02470275]), array([24.98784175,  4.0840572 ])]\n"
     ]
    },
    {
     "name": "stderr",
     "output_type": "stream",
     "text": [
      "/home/gridsan/zwhong/.local/lib/python3.7/site-packages/gym/logger.py:30: UserWarning: \u001b[33mWARN: Box bound precision lowered by casting to float32\u001b[0m\n",
      "  warnings.warn(colorize('%s: %s'%('WARN', msg % args), 'yellow'))\n"
     ]
    },
    {
     "name": "stdout",
     "output_type": "stream",
     "text": [
      "Iteration: 10, Reward: -799.5309962290304\n",
      "Iteration: 20, Reward: -690.0572450510059\n",
      "Iteration: 30, Reward: -880.8642896282424\n",
      "Iteration: 40, Reward: -588.2697370225707\n",
      "Iteration: 50, Reward: -648.9575009851104\n",
      "Iteration: 60, Reward: -756.6447532267697\n",
      "Iteration: 70, Reward: -725.53110338336\n",
      "Iteration: 80, Reward: -718.6794076942572\n",
      "Iteration: 90, Reward: -1008.7595560745468\n"
     ]
    }
   ],
   "source": [
    "print('Safety embeds:', params['safety_embeddings'])\n",
    "params['optimizer'] = 'BGES'\n",
    "params['use_safety'] = True\n",
    "params['use_repel'] = False\n",
    "df_BGES = train(params)"
   ]
  },
  {
   "cell_type": "code",
   "execution_count": 101,
   "metadata": {},
   "outputs": [
    {
     "data": {
      "image/png": "[encoded data removed]",
      "text/plain": [
       "<Figure size 432x288 with 1 Axes>"
      ]
     },
     "metadata": {
      "needs_background": "light"
     },
     "output_type": "display_data"
    }
   ],
   "source": [
    "df_BGES['Embeddings_x'] = [d[0] for d in df_BGES['Embeddings']]\n",
    "df_BGES['Embeddings_y'] = [d[1] for d in df_BGES['Embeddings']]\n",
    "fig, ax = plt.subplots()\n",
    "sns.scatterplot(x='Embeddings_x', y='Embeddings_y', hue='Timesteps', data=df_BGES, ax=ax)\n",
    "sns.scatterplot(x=[e[0] for e in params['safety_embeddings']], y=[e[1] for e in params['safety_embeddings']])\n",
    "sns.scatterplot(x=[25,], y=[0,], ax=ax)\n",
    "ax.legend().set_visible(False)"
   ]
  },
  {
   "cell_type": "code",
   "execution_count": 97,
   "metadata": {},
   "outputs": [
    {
     "name": "stderr",
     "output_type": "stream",
     "text": [
      "/home/gridsan/zwhong/.local/lib/python3.7/site-packages/gym/logger.py:30: UserWarning: \u001b[33mWARN: Box bound precision lowered by casting to float32\u001b[0m\n",
      "  warnings.warn(colorize('%s: %s'%('WARN', msg % args), 'yellow'))\n"
     ]
    },
    {
     "name": "stdout",
     "output_type": "stream",
     "text": [
      "Iteration: 10, Reward: -818.4443934681663\n",
      "Iteration: 20, Reward: -783.4132239394152\n",
      "Iteration: 30, Reward: -788.36585106423\n",
      "Iteration: 40, Reward: -779.6995657707866\n",
      "Iteration: 50, Reward: -779.0855326173156\n",
      "Iteration: 60, Reward: -779.8122308296121\n",
      "Iteration: 70, Reward: -776.7149205955495\n",
      "Iteration: 80, Reward: -778.2185199738444\n",
      "Iteration: 90, Reward: -777.3749660133498\n"
     ]
    }
   ],
   "source": [
    "params['optimizer'] = 'ES'\n",
    "params['use_safety'] = False\n",
    "params['use_repel'] = False\n",
    "df_ES = train(params)"
   ]
  },
  {
   "cell_type": "code",
   "execution_count": 102,
   "metadata": {},
   "outputs": [
    {
     "data": {
      "image/png": "[encoded data removed]",
      "text/plain": [
       "<Figure size 432x288 with 1 Axes>"
      ]
     },
     "metadata": {
      "needs_background": "light"
     },
     "output_type": "display_data"
    }
   ],
   "source": [
    "df_ES['Embeddings_x'] = [d[0] for d in df_ES['Embeddings']]\n",
    "df_ES['Embeddings_y'] = [d[1] for d in df_ES['Embeddings']]\n",
    "fig, ax = plt.subplots()\n",
    "sns.scatterplot(x='Embeddings_x', y='Embeddings_y', hue='Timesteps', data=df_ES, ax=ax)\n",
    "sns.scatterplot(x=[e[0] for e in params['safety_embeddings']], y=[e[1] for e in params['safety_embeddings']])\n",
    "sns.scatterplot(x=[25,], y=[0,], ax=ax)\n",
    "ax.legend().set_visible(False)"
   ]
  },
  {
   "cell_type": "markdown",
   "metadata": {},
   "source": [
    "And last but not least, we can make a simple plot. "
   ]
  },
  {
   "cell_type": "code",
   "execution_count": 131,
   "metadata": {},
   "outputs": [
    {
     "data": {
      "text/plain": [
       "<matplotlib.legend.Legend at 0x7f4b6f706fd0>"
      ]
     },
     "execution_count": 131,
     "metadata": {},
     "output_type": "execute_result"
    },
    {
     "data": {
      "image/png": "[encoded data removed]",
      "text/plain": [
       "<Figure size 432x288 with 1 Axes>"
      ]
     },
     "metadata": {
      "needs_background": "light"
     },
     "output_type": "display_data"
    }
   ],
   "source": [
    "plt.plot(df_BGES.Timesteps, df_BGES.Reward, label='BGES')\n",
    "plt.plot(df_ES.Timesteps, df_ES.Reward, label='ES')\n",
    "plt.xlabel(\"Timesteps\")\n",
    "plt.ylabel(\"Reward\")\n",
    "plt.legend(loc=\"lower right\")"
   ]
  },
  {
   "cell_type": "markdown",
   "metadata": {},
   "source": [
    "As you can see, vanilla ES gets stuck in a local optimum. BGES initially does too, but the behavioral repulsion helps it escape by being 'different' to the previous policies (which were just ending up at the wall). \n",
    "\n",
    "Of course, this is just one seed of one environment, but we hope you get the intuition behind the method. We would encourage testing other hyper-parameter settings or other seeds (the seed is most certainly not a hyper-parameter here... almost all should work)."
   ]
  },
  {
   "cell_type": "markdown",
   "metadata": {},
   "source": [
    "#### Next steps\n",
    "\n",
    "We would love to discuss potential follow up ideas/collaborations. To get things going, we propose a few:\n",
    "* Safe RL: We can use trajectories from unsafe or dangerous policies to repel from, eg a car driving dangerously\n",
    "* Multi-Agent: We can scale this approach to >1 agents, using pairwise WD\n",
    "* Adaptive $\\beta$: We can adapt the amount of emphasis placed on the novelty (WD) term, as in NSRA-ES [3], but in a more rigorous manner\n",
    "\n",
    "If you want to get in touch, please contact: behaviorguidedRL@gmail.com\n",
    "\n",
    "Thank you for your time!"
   ]
  },
  {
   "cell_type": "markdown",
   "metadata": {},
   "source": [
    "#### References\n",
    "\n",
    "[1] A. Rahimi and B. Recht. Random features for large-scale kernel machines. NeurIPS, 2007.\n",
    "\n",
    "[2] K. Choromanski, M. Rowland, V. Sindhwani, R. E. Turner, and A. Weller. Structured evolution\n",
    "with compact architectures for scalable policy optimization. ICML, 2018.\n",
    "\n",
    "[3] E. Conti, V. Madhavan, F. P. Such, J. Lehman, K. O. Stanley, and J. Clune. Improving exploration in evolution strategies for deep reinforcement learning via a population of novelty-seeking agents. NeurIPS, 2018.\n",
    "\n",
    "[4] H. Mania, A. Guy, and B. Recht. Simple random search provides a competitive approach to\n",
    "reinforcement learning. CoRR, 2018.\n"
   ]
  }
 ],
 "metadata": {
  "kernelspec": {
   "display_name": "Python [conda env:.conda-bgrl]",
   "language": "python",
   "name": "conda-env-.conda-bgrl-py"
  },
  "language_info": {
   "codemirror_mode": {
    "name": "ipython",
    "version": 3
   },
   "file_extension": ".py",
   "mimetype": "text/x-python",
   "name": "python",
   "nbconvert_exporter": "python",
   "pygments_lexer": "ipython3",
   "version": "3.7.10"
  },
  "latex_envs": {
   "LaTeX_envs_menu_present": true,
   "autoclose": false,
   "autocomplete": true,
   "bibliofile": "biblio.bib",
   "cite_by": "apalike",
   "current_citInitial": 1,
   "eqLabelWithNumbers": true,
   "eqNumInitial": 1,
   "hotkeys": {
    "equation": "Ctrl-E",
    "itemize": "Ctrl-I"
   },
   "labels_anchors": false,
   "latex_user_defs": false,
   "report_style_numbering": false,
   "user_envs_cfg": false
  },
  "toc": {
   "base_numbering": 1,
   "nav_menu": {},
   "number_sections": true,
   "sideBar": true,
   "skip_h1_title": false,
   "title_cell": "Table of Contents",
   "title_sidebar": "Contents",
   "toc_cell": false,
   "toc_position": {},
   "toc_section_display": true,
   "toc_window_display": false
  },
  "varInspector": {
   "cols": {
    "lenName": 16,
    "lenType": 16,
    "lenVar": 40
   },
   "kernels_config": {
    "python": {
     "delete_cmd_postfix": "",
     "delete_cmd_prefix": "del ",
     "library": "var_list.py",
     "varRefreshCmd": "print(var_dic_list())"
    },
    "r": {
     "delete_cmd_postfix": ") ",
     "delete_cmd_prefix": "rm(",
     "library": "var_list.r",
     "varRefreshCmd": "cat(var_dic_list()) "
    }
   },
   "types_to_exclude": [
    "module",
    "function",
    "builtin_function_or_method",
    "instance",
    "_Feature"
   ],
   "window_display": false
  }
 },
 "nbformat": 4,
 "nbformat_minor": 2
}
